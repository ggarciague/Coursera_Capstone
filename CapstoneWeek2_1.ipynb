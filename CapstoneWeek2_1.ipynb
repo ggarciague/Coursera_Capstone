{
 "cells": [
  {
   "cell_type": "markdown",
   "metadata": {
    "collapsed": true
   },
   "source": [
    "# Welcome to Capstone Project Notebook\n",
    "\n",
    "## By: Gustavo García G.\n",
    "\n"
   ]
  },
  {
   "cell_type": "markdown",
   "metadata": {},
   "source": [
    "## Business Understanding\n",
    "\n",
    "\n",
    "According to CONASET [^1] (Chilean Transit Security National Commission), the number of traffic accidents was close to 90000 last year, causing the death of 1617 people and near 57000 were injured. [^2]\n",
    "The main goal of this project is creating a tool able to assert under certain conditions -such as weather, time of the day or the type of road- predict the severity of car accidents (causing injuries or property damage). \n",
    "\n",
    "With this proposed tool, it may be possible to set alerts for drivers and public services such as police, fire departments, hospitals and road workers to assess the risks and set policies aiming to reduce the number of road accidents, saving lives and uncountable resources to the community as a whole, either public funding or private property. This tool may also be used in the insurance industry to evaluate the risk rate in several locations under certain speficic shared conditions.\n",
    "\n",
    "\n",
    "\n",
    "[^1]: https://www.conaset.cl\n",
    "\n",
    "[^2]: https://www.conaset.cl/programa/observatorio-datos-estadistica/\n"
   ]
  },
  {
   "cell_type": "markdown",
   "metadata": {},
   "source": [
    "## Data Understanding\n",
    "A description of the data and how it will be used to solve the problem. \n",
    "\n",
    "The dataset [^3] to be used in this work is available by the SDOT Traffic Management Division in Seattle, WA. According to the metadata description, \"Includes all types of collisions. Collisions will display at the intersection or mid-block of a segment\" with a timeframe since 2004 to the present (2020). [^4]\n",
    "\n",
    "Along the several columns included on this document, the selected ones to be used for this work are:\n",
    "\n",
    "| Name | Description |\n",
    "|-|-|\n",
    "| SEVERITYCODE | Target Variable, measures the severity of an accident.  |\n",
    "| ADDRTYPE | Collision address type. |\n",
    "| COLLISIONTYPE | Collision type.  |\n",
    "| PERSONCOUNT | Total number of persons involved in the accident. |\n",
    "| PEDCOUNT | Number of pedestrians involved in the accident. |\n",
    "| PEDCYLCOUNT | Number of cyclists involved in the accident. |\n",
    "| VEHCOUNT | Number of vehicles involved in the accident. | \n",
    "| INCDATE | Date of the incident. |\n",
    "| JUNCTIONTYPE | Category of junction at which collision took place.|\n",
    "| SDOT_COLCODE | A code given to the collision by SDOT. |\n",
    "| WEATHER | A description of the weather conditions during the time of the collision. | \n",
    "| ROADCOND | The condition of the road during the collision. |\n",
    "| LIGHTCOND |The light conditions during the collision.  |\n",
    "\n",
    "The purpose of the project is to predict the severity of an accident based on this main features\n",
    "\n",
    "[^3]: https://s3.us.cloud-object-storage.appdomain.cloud/cf-courses-data/CognitiveClass/DP0701EN/version-2/Data-Collisions.csv\n",
    "\n",
    "[^4]: https://s3.us.cloud-object-storage.appdomain.cloud/cf-courses-data/CognitiveClass/DP0701EN/version-2/Metadata.pdf"
   ]
  }
 ],
 "metadata": {
  "kernelspec": {
   "display_name": "Python 3.6",
   "language": "python",
   "name": "python3"
  },
  "language_info": {
   "codemirror_mode": {
    "name": "ipython",
    "version": 3
   },
   "file_extension": ".py",
   "mimetype": "text/x-python",
   "name": "python",
   "nbconvert_exporter": "python",
   "pygments_lexer": "ipython3",
   "version": "3.6.9"
  }
 },
 "nbformat": 4,
 "nbformat_minor": 1
}
